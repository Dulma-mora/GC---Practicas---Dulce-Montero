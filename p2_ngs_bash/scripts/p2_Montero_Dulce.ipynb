{
 "cells": [
  {
   "cell_type": "markdown",
   "metadata": {},
   "source": [
    "# Práctica 2: Bash y NGS\n",
    "\n",
    "## Dulce María Montero Rasgado\n"
   ]
  },
  {
   "cell_type": "markdown",
   "metadata": {},
   "source": [
    "## Parte I. Manejo de directorios\n",
    "\n",
    "* **Creación de directorios**: Inicia la terminal y colócate en el directorio de tus documentos. Crea un directorio llamado: `p2_nombre_apellido`. Ingresa a la carpeta `p2_nombre_apellido` e imprime la ruta absoluta de ésta. \n",
    "\n",
    "Nota: No olivedes que debes ser reportados todos los **outputs**."
   ]
  },
  {
   "cell_type": "code",
   "execution_count": 2,
   "metadata": {},
   "outputs": [
    {
     "name": "stdout",
     "output_type": "stream",
     "text": [
      "mkdir: falta un operando\n",
      "Pruebe 'mkdir --help' para más información.\n",
      "\u001b[?2004h"
     ]
    },
    {
     "ename": "",
     "evalue": "1",
     "output_type": "error",
     "traceback": []
    }
   ],
   "source": [
    "# Comando para crear directorio\n",
    "mkdir"
   ]
  },
  {
   "cell_type": "code",
   "execution_count": 8,
   "metadata": {},
   "outputs": [
    {
     "name": "stdout",
     "output_type": "stream",
     "text": [
      "bash: cd: Descargas: No existe el fichero o el directorio\n",
      "\u001b[?2004h"
     ]
    },
    {
     "ename": "",
     "evalue": "1",
     "output_type": "error",
     "traceback": []
    }
   ],
   "source": [
    "# Comando para ingresar a directorio\n",
    "cd /home/dulma/Descargas/p2_Dulce_Montero"
   ]
  },
  {
   "cell_type": "code",
   "execution_count": 9,
   "metadata": {},
   "outputs": [
    {
     "name": "stdout",
     "output_type": "stream",
     "text": [
      "/home/dulma/Descargas/p2_Dulce_Montero\n",
      "\u001b[?2004h"
     ]
    },
    {
     "ename": "",
     "evalue": "1",
     "output_type": "error",
     "traceback": []
    }
   ],
   "source": [
    "# Comando para imprimir ruta\n",
    "pwd"
   ]
  },
  {
   "cell_type": "markdown",
   "metadata": {},
   "source": [
    "* Indica que tipo de shell tiene tu computadora. Visita [el siguiente sitio](https://askubuntu.com/questions/590899/how-do-i-check-which-shell-i-am-using) para conocer el comando. \n"
   ]
  },
  {
   "cell_type": "code",
   "execution_count": 1,
   "metadata": {},
   "outputs": [
    {
     "name": "stdout",
     "output_type": "stream",
     "text": [
      "/usr/bin/bash04l\n",
      "\u001b[?2004h"
     ]
    },
    {
     "ename": "",
     "evalue": "1",
     "output_type": "error",
     "traceback": []
    }
   ],
   "source": [
    "# Comando para conocer shell\n",
    "echo $0"
   ]
  },
  {
   "cell_type": "markdown",
   "metadata": {},
   "source": [
    "* Un proyecto bioinformático que se quiere publicar, debe estar bien documentado y organizado. Dentro de tu carpeta de trabajo crea en una sola línea las siguientes directorios `data`, `raw_data`, `filtered`, `meta`, `scripts`, `figures`, `archive`. Después mueve `raw_data` y `filtered` dentro de `data`. "
   ]
  },
  {
   "cell_type": "code",
   "execution_count": 10,
   "metadata": {},
   "outputs": [
    {
     "name": "stdout",
     "output_type": "stream",
     "text": [
      "\u001b[?2004h\u001b[?2004l"
     ]
    },
    {
     "ename": "",
     "evalue": "1",
     "output_type": "error",
     "traceback": []
    }
   ],
   "source": [
    "# Comando para crear directorios\n",
    "mkdir data raw_data filtered meta scripts figures archive"
   ]
  },
  {
   "cell_type": "code",
   "execution_count": 11,
   "metadata": {},
   "outputs": [
    {
     "name": "stdout",
     "output_type": "stream",
     "text": [
      "\u001b[?2004h\u001b[?2004l"
     ]
    },
    {
     "ename": "",
     "evalue": "1",
     "output_type": "error",
     "traceback": []
    }
   ],
   "source": [
    "# Comando para mover raw_data y filtered\n",
    "mv -t data raw_data filtered"
   ]
  },
  {
   "cell_type": "markdown",
   "metadata": {},
   "source": [
    "* Visita [el siguiente repositorio](https://github.com/u-genoma/BioinfinvRepro/blob/master/Unidad2/Unidad2_Organizacion_proyecto_bioinf.md) de `GitHub` y contesta ¿A qué se debe el nombre y la organización de los directorios que acabamos de crear? "
   ]
  },
  {
   "cell_type": "markdown",
   "metadata": {},
   "source": []
  },
  {
   "cell_type": "markdown",
   "metadata": {},
   "source": [
    "## Parte II.  Manejo de archivos\n",
    "\n",
    "En ésta parte trabajarás con secuencias genómicas de un organismo de tu interés (te sugiero que sea una bacteria, arquea o virus (excepto SARS-COV2) por el tamaño de los archivos). De ese organismo deberás conseguir: \n",
    "\n",
    "1. El archivo crudo (`fastq`). Para conseguir este archivo puedes consultar el base de datos de [SRA](https://www.ncbi.nlm.nih.gov/sra) o el [ENA](https://www.ebi.ac.uk/ena/browser/home). \n",
    "2. La secuencia de DNA (`fasta`).\n",
    "3. El archivo con genes anotados (`gff`).\n",
    "4. Un archivo con la descripción del proyecto, puede ser un Genbank o similar. \n",
    "\n",
    "* Guarda cada archivo con la siguiente estructura: `nombre_bicho.formato` (en `nombre_bicho` tienes que poner el nombre científico del organismo que elegiste).\n",
    "* Descarga éstos cuatro archivos en tu carpeta `p2_nombre_apellido`.\n",
    "\n"
   ]
  },
  {
   "cell_type": "markdown",
   "metadata": {},
   "source": [
    "* Cuéntame sobre el organismo que elegiste, elabora un resumen de 120 palabras de ese bicho."
   ]
  },
  {
   "cell_type": "markdown",
   "metadata": {},
   "source": [
    "_Bacillus cereus_ es una bacteria principalmente conocida por causar envenenamiento por consumo, es decir, intoxicaciones alimentarias que se manifiestan con síndrome emético y diarrea. \n",
    "El genoma completo de _B. cereus_ NC7401 comprende un único cromosoma circular de 5.221.581 pb, con un contenido de G+C del 35,6 %, es un genoma petite.\n",
    "Además de su capacidad para provocar intoxicaciones alimentarias, B. cereus también está involucrada en infecciones locales y sistémicas, especialmente asociadas con pacientes inmunocomprometidos, neonatos, drogodependientes y pacientes con heridas quirúrgicas o traumáticas o catéteres. Las cepas aisladas de este tipo de infecciones han mostrado su habilidad para sintetizar exotoxinas necrotizantes semejantes a hemolisinas y fosfolipasas.\n",
    "Se considera que su nicho fundamental es el suelo donde su gran diversidad metabólica le da ventaja sobre otros habitantes microbianos para obtener nutrientes."
   ]
  },
  {
   "cell_type": "markdown",
   "metadata": {},
   "source": [
    "* ¿Existe una publicación sobre la secuenciación y ensamblado de su genoma? Colóca la fuente en formato APA. "
   ]
  },
  {
   "cell_type": "markdown",
   "metadata": {},
   "source": [
    "Takeno, A., Okamoto, A., Tori, K., Oshima, K., Hirakawa, H., Toh, H., ... & Ohta, M. (2012). _Complete genome sequence of Bacillus cereus NC7401, which produces high levels of the emetic toxin cereulide._"
   ]
  },
  {
   "cell_type": "markdown",
   "metadata": {},
   "source": [
    "* ¿Qué plataforma de secuenciación se utilizó? Explica brevemente las características de esa plataforma de secuenciación. "
   ]
  },
  {
   "cell_type": "markdown",
   "metadata": {},
   "source": [
    "Se utilizó Illumina NovaSeq; PacBio Sequel.\n",
    "El sistema NovaSeq 6000 genera lecturas desde 80 Gb y 800 M de lecturas hasta 3 Tb y 10 B de lecturas en modo de celda de flujo único. En el modo de celda de doble flujo, el output de información puede ser hasta 6 Tb y 20 B de lecturas."
   ]
  },
  {
   "cell_type": "markdown",
   "metadata": {},
   "source": [
    "* Mueve tus cuatro archivos a la carpeta de `raw_data` y has un `ls` con formato largo y legible para humanos. Después copia el archivo `gff` a tu carpeta `filtered.`"
   ]
  },
  {
   "cell_type": "code",
   "execution_count": 14,
   "metadata": {},
   "outputs": [
    {
     "name": "stdout",
     "output_type": "stream",
     "text": [
      "\u001b[?2004h\u001b[?2004l"
     ]
    },
    {
     "ename": "",
     "evalue": "1",
     "output_type": "error",
     "traceback": []
    }
   ],
   "source": [
    "# Comando para mover archivos\n",
    "mv -t /home/dulma/Descargas/p2_Dulce_Montero/data/raw_data Bacillus_cereus.fasta Bacillus_cereus.gb Bacillus_cereus.gff3 Bacillus_cereus_fastq.fasta"
   ]
  },
  {
   "cell_type": "code",
   "execution_count": 16,
   "metadata": {},
   "outputs": [
    {
     "name": "stdout",
     "output_type": "stream",
     "text": [
      "\u001b[?2004h\u001b[?2004l"
     ]
    },
    {
     "ename": "",
     "evalue": "1",
     "output_type": "error",
     "traceback": []
    }
   ],
   "source": [
    "# Accediendo a la carpeta raw_data\n",
    "cd data/raw_data"
   ]
  },
  {
   "cell_type": "code",
   "execution_count": 26,
   "metadata": {
    "scrolled": true
   },
   "outputs": [
    {
     "name": "stdout",
     "output_type": "stream",
     "text": [
      "total 15M[?2004l\n",
      "-rw-r--r-- 1 dulma dulma 5.2M may 13 18:58 Bacillus_cereus.fasta\n",
      "-rw-r--r-- 1 dulma dulma 1.7M may 13 20:18 Bacillus_cereus.fastq\n",
      "-rw-r--r-- 1 dulma dulma 5.5M may 13 19:00 Bacillus_cereus.gb\n",
      "-rw-r--r-- 1 dulma dulma 2.5M may 13 19:02 Bacillus_cereus.gff3\n",
      "\u001b[?2004h"
     ]
    },
    {
     "ename": "",
     "evalue": "1",
     "output_type": "error",
     "traceback": []
    }
   ],
   "source": [
    "# Comando para listado largo y legible para humanos\n",
    "ls -lh"
   ]
  },
  {
   "cell_type": "code",
   "execution_count": 19,
   "metadata": {},
   "outputs": [
    {
     "name": "stdout",
     "output_type": "stream",
     "text": [
      "\u001b[?2004h\u001b[?2004l"
     ]
    },
    {
     "ename": "",
     "evalue": "1",
     "output_type": "error",
     "traceback": []
    }
   ],
   "source": [
    "# Comando para copiar archivo gff\n",
    "cp Bacillus_cereus.gff3 ../filtered"
   ]
  },
  {
   "cell_type": "markdown",
   "metadata": {},
   "source": [
    "* Explora tus tres archivos (`fastq`,`fasta`, y `gff`) , utiliza un comando para ver las primeras 12 líneas de cada archivo."
   ]
  },
  {
   "cell_type": "code",
   "execution_count": 25,
   "metadata": {},
   "outputs": [
    {
     "name": "stdout",
     "output_type": "stream",
     "text": [
      "@SRR10083550.1 0_0_1_12415_232/1\n",
      "ACCAGAAATCCTATATACTAAATGGTTAATTGTAACTGAACCCGCAGGTCACATGTGTTAGGTTTCAC\n",
      "+\n",
      "GGGGGD=FGGADGGGGGGGGGFDDFGECCFGGGFGFEFFGDEFGGFGEDGGBEEGGDDFBGGGGGGFE\n",
      "@SRR10083550.2 1_1_1_7227_342/1\n",
      "TAGATATGTTTCGGGAGTTTACAGTTGCGTAGTTGCGGATTAAGGGAGTAGGATGAATATAACCCGCA\n",
      "+\n",
      "GGFDEFGGGGGGGDD@?AFGGAC?)BCBCCB@?EDBFF:,??B?=EDCCDGGGDD?DGFFGGGGFFGG\n",
      "@SRR10083550.3 2_1_1_5884_292/1\n",
      "CGAATACTGCATCCCAGCATGTCCTTTCTACTGCGGTAGCTCTGTCTTTTATAAAAATACTTTAGTCA\n",
      "+\n",
      "GFD>BB=?45@:CBEEEDDDFFFGFEGGEGG?GGGGGGFGGGGGGGGGEEFGBA=?EAEFD?77BABE\n",
      "\u001b[?2004h"
     ]
    },
    {
     "ename": "",
     "evalue": "1",
     "output_type": "error",
     "traceback": []
    }
   ],
   "source": [
    "# Comando para ver fastq\n",
    "head -n 12 Bacillus_cereus.fastq"
   ]
  },
  {
   "cell_type": "code",
   "execution_count": 22,
   "metadata": {},
   "outputs": [
    {
     "name": "stdout",
     "output_type": "stream",
     "text": [
      ">CP072774.1 Bacillus cereus strain BC33 chromosome, complete genome\n",
      "TTGGAAAATATCTCTGATTTATGGAATAGTGCCTTAAAAGAATTAGAAAAAAAGGTAAGCAAGCCTAGTT\n",
      "ATGAGACATGGTTAAAATCCACAACGGCTCATAACTTGAAGAAAGACGTATTAACGATTACAGCTCCGAA\n",
      "TGAATTTGCTCGTGACTGGCTAGAATCTCATTACTCCGAACTAATTTCAGAAACACTATACGATTTAACA\n",
      "GGGGCAAAATTAGCAATTCGCTTTATTATTCCCCAAAGTCAAGCTGAAGAGGACATTGATCTGCCTCCAG\n",
      "TTAAGCCGAATCCAGCACAAGATGATTCAGCTCATTTACCACAGAGCATGTTAAATCCAAAATATACATT\n",
      "CGATACATTTGTTATTGGCTCTGGTAACCGTTTTGCCCATGCAGCTTCATTAGCTGTAGCTGAGGCGCCA\n",
      "GCTAAAGCGTATAATCCACTCTTTATTTACGGAGGAGTTGGACTTGGAAAGACACATTTAATGCATGCAA\n",
      "TTGGTCATTATGTAATTGAACATAATCCAAATGCAAAAGTTGTATATTTATCATCAGAAAAATTTACAAA\n",
      "TGAATTTATTAACTCTATTCGTGATAATAAAGCTGTTGATTTTCGTAATAAATATCGCAACGTAGATGTT\n",
      "TTATTGATAGATGATATTCAATTTCTTGCTGGAAAAGAACAGACTCAAGAAGAGTTTTTCCATACATTTA\n",
      "ATGCATTACACGAAGAAAGTAAACAAATTGTAATTTCTAGTGACCGACCACCAAAAGAAATTCCAACTTT\n",
      "\u001b[?2004h"
     ]
    },
    {
     "ename": "",
     "evalue": "1",
     "output_type": "error",
     "traceback": []
    }
   ],
   "source": [
    "# Comando para ver fasta\n",
    "head -n 12 Bacillus_cereus.fasta"
   ]
  },
  {
   "cell_type": "code",
   "execution_count": 24,
   "metadata": {
    "scrolled": true
   },
   "outputs": [
    {
     "name": "stdout",
     "output_type": "stream",
     "text": [
      "##sequence-region CP072774.1 1 5325341\n",
      "##species https://www.ncbi.nlm.nih.gov/Taxonomy/Browser/wwwtax.cgi?id=1396\n",
      "CP072774.1\tGenbank\tregion\t1\t5325341\t.\t+\t.\tID=CP072774.1:1..5325341;Dbxref=taxon:1396;Is_circular=true;Name=ANONYMOUS;collection-date=2020-07-01;country=China: Shanghai;gbkey=Src;genome=chromosome;isolation-source=Bee Honey;mol_type=genomic DNA;strain=BC33\n",
      "CP072774.1\tGenbank\tgene\t1\t1341\t.\t+\t.\tID=gene-J8Y18_00005;Name=dnaA;gbkey=Gene;gene=dnaA;gene_biotype=protein_coding;locus_tag=J8Y18_00005\n",
      "CP072774.1\tProtein Homology\tCDS\t1\t1341\t.\t+\t0\tID=cds-QUW37220.1;Parent=gene-J8Y18_00005;Dbxref=NCBI_GP:QUW37220.1;Name=QUW37220.1;gbkey=CDS;gene=dnaA;inference=COORDINATES: similar to AA sequence:RefSeq:NP_387882.1;locus_tag=J8Y18_00005;product=chromosomal replication initiator protein DnaA;protein_id=QUW37220.1;transl_table=11\n",
      "CP072774.1\tGenbank\tgene\t1520\t2665\t.\t+\t.\tID=gene-J8Y18_00010;Name=dnaN;gbkey=Gene;gene=dnaN;gene_biotype=protein_coding;locus_tag=J8Y18_00010\n",
      "CP072774.1\tProtein Homology\tCDS\t1520\t2665\t.\t+\t0\tID=cds-QUW37221.1;Parent=gene-J8Y18_00010;Dbxref=NCBI_GP:QUW37221.1;Name=QUW37221.1;gbkey=CDS;gene=dnaN;inference=COORDINATES: similar to AA sequence:RefSeq:NP_387883.1;locus_tag=J8Y18_00010;product=DNA polymerase III subunit beta;protein_id=QUW37221.1;transl_table=11\n",
      "CP072774.1\tGenbank\tgene\t2793\t3005\t.\t+\t.\tID=gene-J8Y18_00015;Name=yaaA;gbkey=Gene;gene=yaaA;gene_biotype=protein_coding;locus_tag=J8Y18_00015\n",
      "CP072774.1\tProtein Homology\tCDS\t2793\t3005\t.\t+\t0\tID=cds-QUW37222.1;Parent=gene-J8Y18_00015;Dbxref=NCBI_GP:QUW37222.1;Name=QUW37222.1;gbkey=CDS;gene=yaaA;inference=COORDINATES: similar to AA sequence:RefSeq:WP_000821366.1;locus_tag=J8Y18_00015;product=S4 domain-containing protein YaaA;protein_id=QUW37222.1;transl_table=11\n",
      "CP072774.1\tGenbank\tgene\t3018\t4145\t.\t+\t.\tID=gene-J8Y18_00020;Name=recF;gbkey=Gene;gene=recF;gene_biotype=protein_coding;locus_tag=J8Y18_00020\n",
      "CP072774.1\tProtein Homology\tCDS\t3018\t4145\t.\t+\t0\tID=cds-QUW37223.1;Parent=gene-J8Y18_00020;Dbxref=NCBI_GP:QUW37223.1;Name=QUW37223.1;gbkey=CDS;gene=recF;inference=COORDINATES: similar to AA sequence:RefSeq:WP_016106803.1;locus_tag=J8Y18_00020;product=DNA replication/repair protein RecF;protein_id=QUW37223.1;transl_table=11\n",
      "CP072774.1\tGenbank\tgene\t4184\t6106\t.\t+\t.\tID=gene-J8Y18_00025;Name=gyrB;gbkey=Gene;gene=gyrB;gene_biotype=protein_coding;locus_tag=J8Y18_00025\n",
      "\u001b[?2004h"
     ]
    },
    {
     "ename": "",
     "evalue": "1",
     "output_type": "error",
     "traceback": []
    }
   ],
   "source": [
    "# Comando para ver gff\n",
    "head -n 12 Bacillus_cereus.gff3"
   ]
  },
  {
   "cell_type": "markdown",
   "metadata": {},
   "source": [
    "* Ya que los exploraste, identifica un caracter en los archivos `fastq` y `fasta` que te ayuden a contar el número de secuencias que contiene cada uno. Ahora, utilliza un comando para conocer el número de secuencias en cada archivo. "
   ]
  },
  {
   "cell_type": "code",
   "execution_count": 27,
   "metadata": {},
   "outputs": [
    {
     "name": "stdout",
     "output_type": "stream",
     "text": [
      "1576204h\u001b[?2004l\n",
      "\u001b[?2004h"
     ]
    },
    {
     "ename": "",
     "evalue": "1",
     "output_type": "error",
     "traceback": []
    }
   ],
   "source": [
    "# Comando para contar secuencias en fastq\n",
    "grep '@' -c Bacillus_cereus.fastq"
   ]
  },
  {
   "cell_type": "code",
   "execution_count": 28,
   "metadata": {},
   "outputs": [
    {
     "name": "stdout",
     "output_type": "stream",
     "text": [
      "1[?2004h\u001b[?2004l\n",
      "\u001b[?2004h"
     ]
    },
    {
     "ename": "",
     "evalue": "1",
     "output_type": "error",
     "traceback": []
    }
   ],
   "source": [
    "# Comando para contar secuencias en fasta\n",
    "grep '>' -c Bacillus_cereus.fasta\n",
    "\n",
    "# explota pero es una forma de contar el numero de secuencias xdxd"
   ]
  },
  {
   "cell_type": "markdown",
   "metadata": {},
   "source": [
    "* Explica la diferencia entre los formatos `faa`, `fna`, `fastq`, `fasta` y `gff`"
   ]
  },
  {
   "cell_type": "markdown",
   "metadata": {},
   "source": [
    "- El formato .faa es utilizada por el NCBI para \"FASTA Amino Acids\", por lo tanto, es igualmente un archivo FASTA pero destinado a secuencias de aminoacidos.\n",
    "- .fna es un formato FASTA estandarizado para datos de DNA And Protein Sequence Alignment.FNA.\n",
    "- .fastq es un formato de archivo que integra lecturas provenientes de secuenciación, y la puntuación de la calidad, asociada a dichas lecturas, base por base. \n",
    "- .gff en inglés gene-finding format o generic feature format, es un archivo con extensión “.gff” creado con el objetivo de identificar y describir genes, sus características y secuencias proteicas. "
   ]
  },
  {
   "cell_type": "markdown",
   "metadata": {},
   "source": [
    "* Abre el archivo `gff` de las siguientes formas `less archivo.gff3` y `less -S archivo.gff3`. Observa las diferencias y explicalas. "
   ]
  },
  {
   "cell_type": "code",
   "execution_count": null,
   "metadata": {
    "scrolled": true
   },
   "outputs": [
    {
     "name": "stdout",
     "output_type": "stream",
     "text": [
      "##sequence-region CP072774.1 1 5325341\u001b[m\n",
      "##species https://www.ncbi.nlm.nih.gov/Taxonomy/Browser/wwwtax.cgi?id=1396\u001b[m\n",
      "CP072774.1      Genbank region  1       5325341 .       +       .       ID=CP072\u001b[m774.1:1..5325341;Dbxref=taxon:1396;Is_circular=true;Name=ANONYMOUS;collection-da\u001b[mte=2020-07-01;country=China: Shanghai;gbkey=Src;genome=chromosome;isolation-sour\u001b[mce=Bee Honey;mol_type=genomic DNA;strain=BC33\u001b[m\n",
      "CP072774.1      Genbank gene    1       1341    .       +       .       ID=gene-\u001b[mJ8Y18_00005;Name=dnaA;gbkey=Gene;gene=dnaA;gene_biotype=protein_coding;locus_tag\u001b[m=J8Y18_00005\u001b[m\n",
      "CP072774.1      Protein Homology        CDS     1       1341    .       +       \u001b[m0       ID=cds-QUW37220.1;Parent=gene-J8Y18_00005;Dbxref=NCBI_GP:QUW37220.1;Name\u001b[m=QUW37220.1;gbkey=CDS;gene=dnaA;inference=COORDINATES: similar to AA sequence:Re\u001b[mfSeq:NP_387882.1;locus_tag=J8Y18_00005;product=chromosomal replication initiator\u001b[m protein DnaA;protein_id=QUW37220.1;transl_table=11\u001b[m\n",
      "CP072774.1      Genbank gene    1520    2665    .       +       .       ID=gene-\u001b[mJ8Y18_00010;Name=dnaN;gbkey=Gene;gene=dnaN;gene_biotype=protein_coding;locus_tag\u001b[m=J8Y18_00010\u001b[m\n",
      "CP072774.1      Protein Homology        CDS     1520    2665    .       +       \u001b[m0       ID=cds-QUW37221.1;Parent=gene-J8Y18_00010;Dbxref=NCBI_GP:QUW37221.1;Name\u001b[m=QUW37221.1;gbkey=CDS;gene=dnaN;inference=COORDINATES: similar to AA sequence:Re\u001b[mfSeq:NP_387883.1;locus_tag=J8Y18_00010;product=DNA polymerase III subunit beta;p\u001b[mrotein_id=QUW37221.1;transl_table=11\u001b[m\n"
     ]
    }
   ],
   "source": [
    "# less archivo.gff3\n",
    "less Bacillus_cereus.gff3"
   ]
  },
  {
   "cell_type": "code",
   "execution_count": null,
   "metadata": {},
   "outputs": [],
   "source": [
    "# less -S archivo.gff3\n",
    "less -S Bacillus_cereus.gff3"
   ]
  },
  {
   "cell_type": "markdown",
   "metadata": {},
   "source": [
    "#### Así se ve, no sé por qué no imprimió la vista del comando, pero en mi consola sale esto\n",
    "\n",
    "##sequence-region CP072774.1 1 5325341\n",
    "##species https://www.ncbi.nlm.nih.gov/Taxonomy/Browser/wwwtax.cgi?id=1396\n",
    "CP072774.1      Genbank region  1       5325341 .       +       .       ID=CP072774.1:1..5325341;Dbx>\n",
    "CP072774.1      Genbank gene    1       1341    .       +       .       ID=gene-J8Y18_00005;Name=dna>\n",
    "CP072774.1      Protein Homology        CDS     1       1341    .       +       0       ID=cds-QUW37>\n",
    "CP072774.1      Genbank gene    1520    2665    .       +       .       ID=gene-J8Y18_00010;Name=dna>\n",
    "CP072774.1      Protein Homology        CDS     1520    2665    .       +       0       ID=cds-QUW37>\n",
    "CP072774.1      Genbank gene    2793    3005    .       +       .       ID=gene-J8Y18_00015;Name=yaa>\n",
    "CP072774.1      Protein Homology        CDS     2793    3005    .       +       0       ID=cds-QUW37>\n",
    "CP072774.1      Genbank gene    3018    4145    .       +       .       ID=gene-J8Y18_00020;Name=rec>\n",
    "CP072774.1      Protein Homology        CDS     3018    4145    .       +       0       ID=cds-QUW37>\n",
    "CP072774.1      Genbank gene    4184    6106    .       +       .       ID=gene-J8Y18_00025;Name=gyr>\n",
    "CP072774.1      Protein Homology        CDS     4184    6106    .       +       0       ID=cds-QUW37>\n",
    "CP072774.1      Genbank gene    6195    8666    .       +       .       ID=gene-J8Y18_00030;Name=gyr>\n",
    "CP072774.1      Protein Homology        CDS     6195    8666    .       +       0       ID=cds-QUW37>\n",
    "CP072774.1      Genbank gene    8908    10459   .       +       .       ID=gene-J8Y18_00035;Name=J8Y>\n",
    "CP072774.1      cmsearch        rRNA    8908    10459   .       +       .       ID=rna-J8Y18_00035;P>\n",
    "CP072774.1      cmsearch        exon    8908    10459   .       +       .       ID=exon-J8Y18_00035->\n",
    "CP072774.1      Genbank gene    10590   10666   .       +       .       ID=gene-J8Y18_00040;Name=J8Y>\n",
    "CP072774.1      tRNAscan-SE     tRNA    10590   10666   .       +       .       ID=rna-J8Y18_00040;P>\n",
    "CP072774.1      tRNAscan-SE     exon    10590   10666   .       +       .       ID=exon-J8Y18_00040->"
   ]
  },
  {
   "cell_type": "markdown",
   "metadata": {},
   "source": [
    "* Entra a tu carpeta de `filtered` utilizando una ruta relativa. "
   ]
  },
  {
   "cell_type": "code",
   "execution_count": null,
   "metadata": {},
   "outputs": [],
   "source": [
    "# Comando\n",
    "cd ../filtered"
   ]
  },
  {
   "cell_type": "markdown",
   "metadata": {},
   "source": [
    "* Cambia el nombre del archivo que tienes aquí por `cp_nombre_bicho.gff` (en `nombre_bicho` tienes que poner el nombre científico del organismo que elegiste)."
   ]
  },
  {
   "cell_type": "code",
   "execution_count": null,
   "metadata": {},
   "outputs": [],
   "source": [
    "# Comando para cambiar nombre de un archivo\n",
    "mv Bacillus_cereus.gff3 cp_Bacillus_cereus.gff3"
   ]
  },
  {
   "cell_type": "markdown",
   "metadata": {},
   "source": [
    "* Filtra el tercer campo de tu archivo `gff` por la categoría `gene` y reporta la cantidad de genes que tiene el archivo. Contesta: \n",
    "\n",
    "1. ¿A qué corresponde el campo tres? \n",
    "2. ¿Cuál es la diferencia entre gene y CDS?"
   ]
  },
  {
   "cell_type": "code",
   "execution_count": null,
   "metadata": {},
   "outputs": [],
   "source": [
    "# Comando para concer cuántos genes hay\n",
    "grep 'gene' -c  cp_Bacillus_cereus.gff3\n",
    "# 10822"
   ]
  },
  {
   "cell_type": "code",
   "execution_count": null,
   "metadata": {},
   "outputs": [],
   "source": [
    "cut -f 3 cp_Bacillus_cereus.gff3 "
   ]
  },
  {
   "cell_type": "markdown",
   "metadata": {},
   "source": [
    "El campo tres revela el tipo de transcrito que hay en los 10882 genes. Puede ser un gen, tRNA, rRNA, tmRNA...\n",
    "CDS es la region de codificacion de un gen, es la parte del gen que codifica un transcrito, en cambio gen tiene a toda la secuencia completa incluyendo intrones."
   ]
  },
  {
   "cell_type": "markdown",
   "metadata": {},
   "source": [
    "## Parte III. Visualización con Python"
   ]
  },
  {
   "cell_type": "markdown",
   "metadata": {},
   "source": [
    "* En tu archivo `gff`, identifica cuántas categorías distintas existen en el campo 3 y cuántas veces aparecen. Redirecciona la salida a un archivo que se llame `barplot_data.txt`"
   ]
  },
  {
   "cell_type": "code",
   "execution_count": null,
   "metadata": {},
   "outputs": [],
   "source": [
    "# Comando\n",
    "awk 'BEGIN{print \"Transcrito:\"}; {tipo[$3] +=1}; END {for (i in tipo) {if (i != \"\") {print i \"\\t\" tipo[i]}}}' data/filtered/cp_Bacillus_cereus.gff3 > barplot_data.txt"
   ]
  },
  {
   "cell_type": "markdown",
   "metadata": {},
   "source": [
    "Transcrito:\n",
    "ncRNA\t2\n",
    "SRP_RNA\t1\n",
    "sequence_feature\t3\n",
    "tmRNA\t1\n",
    "exon\t153\n",
    "rRNA\t42\n",
    "region\t1\n",
    "CDS\t21\n",
    "riboswitch\t37\n",
    "Homology\t5258\n",
    "RNase_P_RNA\t1\n",
    "binding_site\t43\n",
    "gene\t5346\n",
    "pseudogene\t85\n",
    "tRNA\t106\n",
    "1\t1"
   ]
  },
  {
   "cell_type": "markdown",
   "metadata": {},
   "source": [
    "* Crea una figura a partir de `barplot_data.txt`, para esto puedes utiliza el siguiete script de Python para generar una figura. \n",
    "\n",
    "```python\n",
    "\n",
    "import numpy as np\n",
    "import matplotlib.pyplot as plt\n",
    "from textwrap import wrap\n",
    "\n",
    "# Crea el dataset con tus datos obtenidos en barplot_data.txt\n",
    "frecuencias = [3, 12, 5, 18, 45]\n",
    "# Cambia el nombre de las categorías por las que obtuviste no lo dejes como \"Categoría A\", etc.\n",
    "categorias = ['Categoría A', 'Categoría B', 'Categoría C', 'Categoría D', 'Categoría E']\n",
    "categorias = [ ''.join(wrap(l, 11)) for l in categorias]\n",
    "\n",
    "y_pos = np.arange(len(categorias))\n",
    "\n",
    "# Gráfico de barras\n",
    "plt.bar(y_pos, frecuencias)\n",
    "\n",
    "# Nombres en el eje-x\n",
    "plt.xticks(y_pos, categorias)\n",
    "\n",
    "# Mostrar la gráfica\n",
    "plt.show()\n",
    "\n",
    "```\n",
    "\n",
    "También puedes generar tu figura con R o Julia, **prohibido** usar Excel.\n",
    "\n",
    "* Guarda la figura en tu carpeta `figures` con el nombre `barplot.png`.\n",
    "* Guardar el código que utilizaste en la carpeta `scripts`, lo puedes guardar en cualquier formato. "
   ]
  },
  {
   "cell_type": "markdown",
   "metadata": {},
   "source": [
    "* Guarda tu libreta de `Jupyter` o tu `md` con tu nombre, las preguntas, los comandos y los outputs en la carpeta `scripts`. \n",
    "\n",
    "* Comprime tu carpeta `p2_nombre_apellido` y súbela en la sección de Classroom correspondiente."
   ]
  },
  {
   "cell_type": "code",
   "execution_count": 1,
   "metadata": {},
   "outputs": [
    {
     "name": "stdout",
     "output_type": "stream",
     "text": [
      " \u001b[0m\u001b[01;34marchive\u001b[0m       \u001b[01;34mdata\u001b[0m      \u001b[01;34mmeta\u001b[0m                    'Parte III.ipynb'\n",
      " \u001b[01;35mbarplot.png\u001b[0m   \u001b[01;34mfigures\u001b[0m   p2_Montero_Dulce.ipynb   \u001b[01;34mscripts\u001b[0m\n",
      "\u001b[?2004h"
     ]
    },
    {
     "ename": "",
     "evalue": "1",
     "output_type": "error",
     "traceback": []
    }
   ],
   "source": [
    "ls mv -t figures "
   ]
  },
  {
   "cell_type": "code",
   "execution_count": null,
   "metadata": {},
   "outputs": [],
   "source": []
  },
  {
   "cell_type": "code",
   "execution_count": null,
   "metadata": {},
   "outputs": [],
   "source": []
  }
 ],
 "metadata": {
  "kernelspec": {
   "display_name": "Bash",
   "language": "bash",
   "name": "bash"
  },
  "language_info": {
   "codemirror_mode": "shell",
   "file_extension": ".sh",
   "mimetype": "text/x-sh",
   "name": "bash"
  }
 },
 "nbformat": 4,
 "nbformat_minor": 5
}
