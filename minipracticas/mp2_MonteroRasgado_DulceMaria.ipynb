{
 "cells": [
  {
   "cell_type": "markdown",
   "metadata": {},
   "source": [
    "<h1><center>GENÓMICA COMPUTACIONAL</center>\n",
    "\n",
    "# Minipráctica 2. Control de Flujo\n",
    "\n",
    "### Montero Rasgado Dulce María"
   ]
  },
  {
   "cell_type": "code",
   "execution_count": 1,
   "metadata": {},
   "outputs": [],
   "source": [
    "# generar secuencias de DNA\n",
    "\n",
    "import random\n",
    "\n",
    "def generar_secuencia(tamaño = int(), codigo = \"CTGA\"):\n",
    "    return''.join(random.choices(codigo, k = tamaño))\n",
    "\n",
    "# generar secuencia de 50 pb y guardar en variable | ejemplo\n",
    "DNA = generar_secuencia(50)"
   ]
  },
  {
   "cell_type": "markdown",
   "metadata": {},
   "source": [
    "**1) Crea un programa en el que un usuario ingrese un codón y el programa arroje un mensaje que diga si se trata de un codón de stop, de inicio o ninguno de los dos.**"
   ]
  },
  {
   "cell_type": "code",
   "execution_count": 2,
   "metadata": {},
   "outputs": [],
   "source": [
    "import re"
   ]
  },
  {
   "cell_type": "code",
   "execution_count": 38,
   "metadata": {},
   "outputs": [
    {
     "name": "stdout",
     "output_type": "stream",
     "text": [
      "Ingrese un codón de DNA (secuencia de tres nuclótidos A, T, G, C) ctg\n",
      "CTG  no es un codón ni de inicio ni de terminación\n"
     ]
    }
   ],
   "source": [
    "# codón de inicio: ATG (AUG)\n",
    "# codones de stop: TAA (UAA), TAG (UAG), TGA (UGA)\n",
    "\n",
    "\n",
    "# la funcion input nos permite registrar en una variable cualquier cosa que el usuario deseé escribir\n",
    "\n",
    "codon = input(\"Ingrese un codón de DNA (secuencia de tres nuclótidos A, T, G, C) \")  \n",
    "codon = codon.upper() # hay que convertirlo a mayusculas para que lo detecte\n",
    "\n",
    "\n",
    "# ciclo if\n",
    "\n",
    "if codon == \"ATG\":\n",
    "    print(codon, \" es un codón de inicio\")\n",
    "    \n",
    "elif codon == \"TAA\" or codon == \"TAG\" or codon == \"TGA\":  # no pude con \"TAA|TAG|TGA\" aaaa :c\n",
    "    print(codon, \" es un codón de terminación\")\n",
    "\n",
    "else:\n",
    "    print(codon, \" no es un codón ni de inicio ni de terminación\")"
   ]
  },
  {
   "cell_type": "markdown",
   "metadata": {},
   "source": [
    "**2) Crea un programa que arroje la frecuencia de A, T, C y G de una cadena de DNA de 300 nucleotídos. Punto extra (en algo) si logras hacerlo con bucles for y diccionarios.**"
   ]
  },
  {
   "cell_type": "code",
   "execution_count": 12,
   "metadata": {},
   "outputs": [
    {
     "name": "stdout",
     "output_type": "stream",
     "text": [
      "CGCAAATCACCGCGGGATAGAGCACCAGCCACGTCCGCTACCTGGTGTCGCATTCTTCAGCAGACAATTTCCTATGAACGTCAACAGTTCGCCACGCCCTGCCCCGTGCAACCTCGTTGATGGATTTCGCGAGCTGGATTATCAGAAGGAACTGCAACAGGCACTTGGGTCGGTCTTGTTGACCCCAATTCCCCTAATAAACACTTAACGGACCTGCCCCCTCCGTCGACGACTCTATTTTCTTGTTTGCTGGCCTACAATAATCGTAGTGGTTCTATGGTAAGAAGAAGGTCTTCGGGA\n"
     ]
    }
   ],
   "source": [
    "# generando secuencia aleatoria de 300 nucleotidos\n",
    "\n",
    "sec_300 = generar_secuencia(300)\n",
    "print(sec_300) # viendo q pedo"
   ]
  },
  {
   "cell_type": "code",
   "execution_count": 13,
   "metadata": {},
   "outputs": [
    {
     "name": "stdout",
     "output_type": "stream",
     "text": [
      "{'C': 87, 'G': 69, 'A': 69, 'T': 75}\n"
     ]
    }
   ],
   "source": [
    "freq = {}  # preparando el diccionario\n",
    "\n",
    "\n",
    "# ciclo de iteración for\n",
    "\n",
    "for nucleotido in sec_300:\n",
    "    \n",
    "    if nucleotido in freq:\n",
    "        freq[nucleotido] += 1 # usando el operador += \n",
    "        \n",
    "    else:\n",
    "        freq[nucleotido] = 1\n",
    "\n",
    "print(freq)"
   ]
  },
  {
   "cell_type": "markdown",
   "metadata": {},
   "source": [
    "### 3) Listas de comprensión\n",
    "\n",
    "- **Crea una lista que contenga 5 cadenas de DNA de 50 nucleótidos cada una.**\n",
    "\n",
    "- **Extrae de cada cadena el codón número 3.**\n",
    "\n",
    "- **El programa debe dar como resultado una lista con los codones que extrajíste.**"
   ]
  },
  {
   "cell_type": "code",
   "execution_count": 15,
   "metadata": {},
   "outputs": [
    {
     "name": "stdout",
     "output_type": "stream",
     "text": [
      "['AAGAGCTCCCTATTGGGTTTTTTAAGATAGCGATACAGATCTGTAGCTAG', 'TTACATCTGAGATAACACAGTGATCAGGAGCCCAAAATGCACCGTACCAT', 'ATTTAAAATGGCTCGCGGATAGTGATTGCAAAGCGTCAACTAAGACCAGC', 'GTCAGGGAACATTATACAAATCGTTTTGCGAGGACCAGTCTCGGTAACCT', 'ATTGAGATGAAGGTAATGATTACAGGACTCCCTAGCAATCACATTTTTCC']\n"
     ]
    }
   ],
   "source": [
    "# creando lista de secuencias\n",
    "\n",
    "lista_cadenas = [generar_secuencia(50) for i in range(5)]\n",
    "print(lista_cadenas)"
   ]
  },
  {
   "cell_type": "markdown",
   "metadata": {},
   "source": [
    "**Estructura con listas de comprensión**"
   ]
  },
  {
   "cell_type": "code",
   "execution_count": 34,
   "metadata": {},
   "outputs": [
    {
     "data": {
      "text/plain": [
       "'TCC'"
      ]
     },
     "execution_count": 34,
     "metadata": {},
     "output_type": "execute_result"
    }
   ],
   "source": [
    "# accediendo a tripletes usando el formato de lista de listas\n",
    "\n",
    "lista_cadenas[0][6:9] #triplete 3 de la secuencia 1"
   ]
  },
  {
   "cell_type": "code",
   "execution_count": 35,
   "metadata": {
    "scrolled": true
   },
   "outputs": [
    {
     "name": "stdout",
     "output_type": "stream",
     "text": [
      "['TCC', 'CTG', 'AAT', 'GAA', 'ATG']\n"
     ]
    }
   ],
   "source": [
    "# lista de 3ros codones de cada elemento de lista_cadenas\n",
    "\n",
    "lista_codones = [i[6:9] for i in lista_cadenas]\n",
    "print(lista_codones)"
   ]
  },
  {
   "cell_type": "markdown",
   "metadata": {},
   "source": [
    "**Estructura con for y append()**"
   ]
  },
  {
   "cell_type": "code",
   "execution_count": 36,
   "metadata": {},
   "outputs": [
    {
     "data": {
      "text/plain": [
       "['AAGAGCTCCCTATTGGGTTTTTTAAGATAGCGATACAGATCTGTAGCTAG',\n",
       " 'TTACATCTGAGATAACACAGTGATCAGGAGCCCAAAATGCACCGTACCAT',\n",
       " 'ATTTAAAATGGCTCGCGGATAGTGATTGCAAAGCGTCAACTAAGACCAGC',\n",
       " 'GTCAGGGAACATTATACAAATCGTTTTGCGAGGACCAGTCTCGGTAACCT',\n",
       " 'ATTGAGATGAAGGTAATGATTACAGGACTCCCTAGCAATCACATTTTTCC']"
      ]
     },
     "execution_count": 36,
     "metadata": {},
     "output_type": "execute_result"
    }
   ],
   "source": [
    "lista_cadenas"
   ]
  },
  {
   "cell_type": "code",
   "execution_count": 37,
   "metadata": {},
   "outputs": [
    {
     "name": "stdout",
     "output_type": "stream",
     "text": [
      "['TCC', 'CTG', 'AAT', 'GAA', 'ATG']\n"
     ]
    }
   ],
   "source": [
    "codones = []\n",
    "\n",
    "for i in lista_cadenas:\n",
    "    codones.append(i[6:9])\n",
    "print(codones)"
   ]
  }
 ],
 "metadata": {
  "kernelspec": {
   "display_name": "Python 3",
   "language": "python",
   "name": "python3"
  },
  "language_info": {
   "codemirror_mode": {
    "name": "ipython",
    "version": 3
   },
   "file_extension": ".py",
   "mimetype": "text/x-python",
   "name": "python",
   "nbconvert_exporter": "python",
   "pygments_lexer": "ipython3",
   "version": "3.7.6"
  }
 },
 "nbformat": 4,
 "nbformat_minor": 4
}
