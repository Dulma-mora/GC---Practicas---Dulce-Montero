{
 "cells": [
  {
   "cell_type": "markdown",
   "metadata": {},
   "source": [
    "<h1><center>GENÓMICA COMPUTACIONAL</center>\n",
    "<h2><center>Minipráctica 1. Variables, Datos y Operadores</center>\n",
    "\n",
    "### Montero Rasgado Dulce María"
   ]
  },
  {
   "cell_type": "markdown",
   "metadata": {},
   "source": [
    "### Parte I\n",
    "\n",
    "#### a) ¿Qué es una función integrada (built-in function)?\n",
    "\n",
    "Las funciones integradas son blablablabla.\n",
    "\n",
    "#### b) Crea una variable que se llame _dna_ que contenga la siguiente cadena de caracteres:\n",
    "caacggcgggtccctcataggatgaataggtgaaactgtctgaatgcttaggaactggttatggttaccacttcatcaaatatcaattgaacgatacagc"
   ]
  },
  {
   "cell_type": "code",
   "execution_count": 11,
   "metadata": {},
   "outputs": [],
   "source": [
    "# creando la variable dna\n",
    "dna = \"caacggcgggtccctcataggatgaataggtgaaactgtctgaatgcttaggaactggttatggttaccacttcatcaaatatcaattgaacgatacagc\""
   ]
  },
  {
   "cell_type": "code",
   "execution_count": 8,
   "metadata": {},
   "outputs": [
    {
     "name": "stdout",
     "output_type": "stream",
     "text": [
      "caacggcgggtccctcataggatgaataggtgaaactgtctgaatgcttaggaactggttatggttaccacttcatcaaatatcaattgaacgatacagc\n"
     ]
    }
   ],
   "source": [
    "# imprimiendo la variable\n",
    "print(dna)"
   ]
  },
  {
   "cell_type": "markdown",
   "metadata": {},
   "source": [
    "Ahora escribe lo siguiente:\n",
    "\n",
    "- dna.upper() \n",
    "- dna.find(\"catag\") \n",
    "- dna.count() \n",
    "- dna.replace(\"g\", \"x\")\n",
    "\n",
    "#### c) ¿Qué hace cada una de las funciones?"
   ]
  },
  {
   "cell_type": "code",
   "execution_count": 18,
   "metadata": {},
   "outputs": [
    {
     "data": {
      "text/plain": [
       "'CAACGGCGGGTCCCTCATAGGATGAATAGGTGAAACTGTCTGAATGCTTAGGAACTGGTTATGGTTACCACTTCATCAAATATCAATTGAACGATACAGC'"
      ]
     },
     "execution_count": 18,
     "metadata": {},
     "output_type": "execute_result"
    }
   ],
   "source": [
    "# upper\n",
    "dna.upper()"
   ]
  },
  {
   "cell_type": "markdown",
   "metadata": {},
   "source": [
    "La función .upper() convierte a todos los caracteres a mayúsculas."
   ]
  },
  {
   "cell_type": "code",
   "execution_count": 9,
   "metadata": {},
   "outputs": [
    {
     "data": {
      "text/plain": [
       "15"
      ]
     },
     "execution_count": 9,
     "metadata": {},
     "output_type": "execute_result"
    }
   ],
   "source": [
    "# find\n",
    "dna.find(\"catag\")"
   ]
  },
  {
   "cell_type": "markdown",
   "metadata": {},
   "source": [
    "Esta función encuentra en nuestra cadena el patrón \"catag\". Obtiene el número del index en que comienza el patrón solicitado, en este caso es 15."
   ]
  },
  {
   "cell_type": "code",
   "execution_count": 15,
   "metadata": {},
   "outputs": [
    {
     "data": {
      "text/plain": [
       "8"
      ]
     },
     "execution_count": 15,
     "metadata": {},
     "output_type": "execute_result"
    }
   ],
   "source": [
    "# count\n",
    "dna.count(\"aa\")"
   ]
  },
  {
   "cell_type": "markdown",
   "metadata": {},
   "source": [
    "La función .count() es una función integrada que busca en una lista cuantas veces se repite algún patrón que proporcionemos. En este caso, el patrón a buscar fue la cadena de texto \"aa\". El resultado indica que a lo largo de toda nuestra cadena se repite 8 veces el patrón \"aa\".\n",
    "\n",
    "Ahora, si intentamos buscar el patrón \"acg\" nos queda:"
   ]
  },
  {
   "cell_type": "code",
   "execution_count": 17,
   "metadata": {},
   "outputs": [
    {
     "data": {
      "text/plain": [
       "2"
      ]
     },
     "execution_count": 17,
     "metadata": {},
     "output_type": "execute_result"
    }
   ],
   "source": [
    "dna.count(\"acg\")\n",
    "\n",
    "# se repite 2 veces"
   ]
  },
  {
   "cell_type": "markdown",
   "metadata": {},
   "source": [
    "**Nota:** Es importante ver que no es lo mismo buscar \"aa\" que \"AA\", si le pidieramos buscar \"aa\" a la variable donde todos nuestros nucléotidos están en mayúsculas, la búsqueda daría 0. En cambio, como pedimos buscar \"aa\" en la cadena original que está en mayúsculas, obtuvimos un resultado. Sin embargo, si en esta misma cadena hubiésemos buscado \"AA\", hubiéramos obtenido 0."
   ]
  },
  {
   "cell_type": "code",
   "execution_count": 19,
   "metadata": {},
   "outputs": [
    {
     "data": {
      "text/plain": [
       "'caacxxcxxxtccctcataxxatxaataxxtxaaactxtctxaatxcttaxxaactxxttatxxttaccacttcatcaaatatcaattxaacxatacaxc'"
      ]
     },
     "execution_count": 19,
     "metadata": {},
     "output_type": "execute_result"
    }
   ],
   "source": [
    "# replace\n",
    "dna.replace(\"g\", \"x\")"
   ]
  },
  {
   "cell_type": "markdown",
   "metadata": {},
   "source": [
    "Esta función reemplaza en una lista valores que otorguemos. Es este caso, le pedimos que todas las letras \"g\" que detecte sean reemplazadas por una letra \"x\"."
   ]
  },
  {
   "cell_type": "markdown",
   "metadata": {},
   "source": [
    "### Parte II\n",
    "\n",
    "Trabajando con operadores y expresiones Escribe y ejecuta las expresiones que se encuentran a continuación y responde para cada una:\n",
    "\n",
    "#### a) ¿Qué tipo de dato se está utilizando?\n",
    "\n",
    "#### b) ¿Qué tipo de operador?\n",
    "\n",
    "#### c) Justifica el resultado que se obtenga de cada expresión"
   ]
  },
  {
   "cell_type": "markdown",
   "metadata": {},
   "source": [
    "### Variables"
   ]
  },
  {
   "cell_type": "code",
   "execution_count": 1,
   "metadata": {},
   "outputs": [],
   "source": [
    "# Variables\n",
    "x = 1234\n",
    "y = 5879\n",
    "z = 89\n",
    "\n",
    "mamifero1 = \"Ornitorrinco\"\n",
    "mamifero2 = \" Ornitorrinco\""
   ]
  },
  {
   "cell_type": "markdown",
   "metadata": {},
   "source": [
    "### Expresiones"
   ]
  },
  {
   "cell_type": "code",
   "execution_count": 2,
   "metadata": {},
   "outputs": [
    {
     "data": {
      "text/plain": [
       "False"
      ]
     },
     "execution_count": 2,
     "metadata": {},
     "output_type": "execute_result"
    }
   ],
   "source": [
    "# Expresion 1\n",
    "x > y "
   ]
  },
  {
   "cell_type": "markdown",
   "metadata": {},
   "source": [
    "- Los datos utilizados aquí son del tipo entero o interger ya que x = 1234 y y = 5879.\n",
    "- El tipo de operador usado es relacional y devuelve un valor booleano ('TRUE' / 'FALSE').\n",
    "- El valor de la variable x es 1234, mientras que el de y es 5879. La expresión pregunta si x (5879) es MAYOR QUE y (1234). Como esta condición no es cierta, el resultado es 'FALSE'. \n"
   ]
  },
  {
   "cell_type": "code",
   "execution_count": 3,
   "metadata": {},
   "outputs": [
    {
     "data": {
      "text/plain": [
       "False"
      ]
     },
     "execution_count": 3,
     "metadata": {},
     "output_type": "execute_result"
    }
   ],
   "source": [
    "# Expresion 2\n",
    "mamifero1 == mamifero2"
   ]
  },
  {
   "cell_type": "markdown",
   "metadata": {},
   "source": [
    "- Los datos utilizados son del tipo string o caracter.\n",
    "- El tipo de operador utilizado es relacional.\n",
    "- Aunque la palabra escrita es la misma, el espacio al inicio de la palabra también cuenta como un valor de caracter, por lo que estrictamente hablando no son iguales ambas variables, aunque tengan la misma palabra escrita."
   ]
  },
  {
   "cell_type": "code",
   "execution_count": 6,
   "metadata": {},
   "outputs": [
    {
     "data": {
      "text/plain": [
       "True"
      ]
     },
     "execution_count": 6,
     "metadata": {},
     "output_type": "execute_result"
    }
   ],
   "source": [
    "# Expresión 3\n",
    "x == y or y > z  # aquí escribiste x = y supongo que quisiste escribir x == y "
   ]
  },
  {
   "cell_type": "markdown",
   "metadata": {},
   "source": [
    "- Los datos utilizados son del tipo interger o enteros.\n",
    "- Los operadores utilizados son:\n",
    "    - **==** es relacional.\n",
    "    - **>** es relacional.\n",
    "    - **or** es lógico.\n",
    "- La expresión pregunta por si se cumple una de dos condiciones (operador lógico OR). Las condiciones son si X es igual a Y; y la segunda si Y es mayor que Z. X y Y no son iguales, sin embargo, Y sí es mayor que Z, por lo que la respuesta es TRUE porque la segunda condición se cumple."
   ]
  },
  {
   "cell_type": "code",
   "execution_count": 4,
   "metadata": {},
   "outputs": [
    {
     "data": {
      "text/plain": [
       "True"
      ]
     },
     "execution_count": 4,
     "metadata": {},
     "output_type": "execute_result"
    }
   ],
   "source": [
    "# Expresion 4\n",
    "y != x and y > z"
   ]
  },
  {
   "cell_type": "markdown",
   "metadata": {},
   "source": [
    "- Los datos utilizados son del tipo interger o enteros.\n",
    "- Los operadores utilizados son:\n",
    "    - **!=** es relacional.\n",
    "    - **>** es relacional.\n",
    "    - **and** es lógico.\n",
    "- La expresión pregunta por que se cumplan dos condiciones, la primera que Y sea distinto de X, y la segunda que Y sea mayor a Z. Como y = 5879 y x = 1234, se cumple que y != x. Además, y = 5879 sí es mayor que z = 89. Por lo que al cumplirse ambas condiciones, el resultado es TRUE."
   ]
  },
  {
   "cell_type": "code",
   "execution_count": 5,
   "metadata": {},
   "outputs": [
    {
     "data": {
      "text/plain": [
       "False"
      ]
     },
     "execution_count": 5,
     "metadata": {},
     "output_type": "execute_result"
    }
   ],
   "source": [
    "# Expresion 5\n",
    "# Tipo: Tal vez en este requieras hacer un poco de investigación\n",
    "not x"
   ]
  },
  {
   "cell_type": "markdown",
   "metadata": {},
   "source": [
    "- Finalmente, los datos son del tipo interger.\n",
    "- **not** es un operador lógico.\n",
    "- Como tal no hay una condición explícita en la expresión, por lo que NOT simplemente niega el valor del operando (x), por lo que el resultado es FALSE."
   ]
  }
 ],
 "metadata": {
  "kernelspec": {
   "display_name": "Python 3",
   "language": "python",
   "name": "python3"
  },
  "language_info": {
   "codemirror_mode": {
    "name": "ipython",
    "version": 3
   },
   "file_extension": ".py",
   "mimetype": "text/x-python",
   "name": "python",
   "nbconvert_exporter": "python",
   "pygments_lexer": "ipython3",
   "version": "3.7.6"
  }
 },
 "nbformat": 4,
 "nbformat_minor": 4
}
